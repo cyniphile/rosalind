{
 "cells": [
  {
   "cell_type": "code",
   "execution_count": 2,
   "metadata": {},
   "outputs": [],
   "source": [
    "import bio_lib_string_rs"
   ]
  },
  {
   "cell_type": "code",
   "execution_count": 2,
   "metadata": {},
   "outputs": [],
   "source": [
    "def convertDNAtoRNASimple(s: str) -> str: \n",
    "    return s.replace(\"T\", \"U\")\n",
    "\n",
    "def convertDNAtoRNA(s: str) -> str: \n",
    "    return ''.join([\"U\" if char == 'T' else char for char in s])"
   ]
  },
  {
   "cell_type": "code",
   "execution_count": 3,
   "metadata": {},
   "outputs": [],
   "source": [
    "with open('./problems_py/p2/rosalind_rna.txt') as f:\n",
    "    dna = f.read().strip()"
   ]
  },
  {
   "cell_type": "code",
   "execution_count": 4,
   "metadata": {},
   "outputs": [
    {
     "name": "stdout",
     "output_type": "stream",
     "text": [
      "17.7 s ± 1.68 s per loop (mean ± std. dev. of 7 runs, 1 loop each)\n"
     ]
    }
   ],
   "source": [
    "%%timeit\n",
    "convertDNAtoRNA(dna)"
   ]
  },
  {
   "cell_type": "code",
   "execution_count": 7,
   "metadata": {},
   "outputs": [
    {
     "name": "stdout",
     "output_type": "stream",
     "text": [
      "24.4 s ± 392 ms per loop (mean ± std. dev. of 7 runs, 1 loop each)\n"
     ]
    }
   ],
   "source": [
    "%%timeit\n",
    "bio_lib_string_rs.convert_dna_to_rna(dna)"
   ]
  },
  {
   "cell_type": "code",
   "execution_count": null,
   "metadata": {},
   "outputs": [
    {
     "name": "stdout",
     "output_type": "stream",
     "text": [
      "489 ms ± 24.8 ms per loop (mean ± std. dev. of 7 runs, 1 loop each)\n"
     ]
    }
   ],
   "source": [
    "%%timeit\n",
    "convertDNAtoRNASimple(dna)"
   ]
  },
  {
   "cell_type": "code",
   "execution_count": 5,
   "metadata": {},
   "outputs": [
    {
     "name": "stdout",
     "output_type": "stream",
     "text": [
      "31.5 s ± 645 ms per loop (mean ± std. dev. of 7 runs, 1 loop each)\n"
     ]
    }
   ],
   "source": [
    "%%timeit\n",
    "bio_lib_string_rs.convert_dna_to_rna_native(dna)"
   ]
  },
  {
   "cell_type": "code",
   "execution_count": 28,
   "metadata": {},
   "outputs": [],
   "source": [
    "from dataclasses import dataclass\n",
    "from typing import List\n",
    "\n",
    "@dataclass\n",
    "class PalindromeLocation:\n",
    "    start_index: int\n",
    "    length: int\n",
    "\n",
    "\n",
    "def find_reverse_palindomes(seq: str) -> List[PalindromeLocation]:\n",
    "    min_len = 4\n",
    "    max_len = 12\n",
    "    locations = []\n",
    "    for i in range(0, len(seq) - min_len + 1):\n",
    "        for length in range(min_len, max_len):\n",
    "            if i + length > len(seq):\n",
    "                continue\n",
    "            test_seq = seq[i:(i + length)]\n",
    "            if is_reverse_palindrome(test_seq):\n",
    "                locations.append(\n",
    "                    PalindromeLocation(start_index=i + 1, length=length)\n",
    "                )\n",
    "    return locations\n",
    "\n",
    "\n",
    "def is_reverse_palindrome(seq: str) -> bool:\n",
    "    return seq == reverse_complement_dna(seq)\n",
    "\n",
    "\n",
    "def reverse_complement_dna(dna_seq: str) -> str:\n",
    "    return ''.join([dna_base_complement(b) for b in dna_seq[::-1]])\n",
    "\n",
    "\n",
    "def dna_base_complement(base: str) -> str:\n",
    "    if base == \"A\":\n",
    "        return \"T\"\n",
    "    elif base == \"T\":\n",
    "        return \"A\"\n",
    "    elif base == \"G\":\n",
    "        return \"C\"\n",
    "    elif base == \"C\":\n",
    "        return \"G\"\n",
    "    else:\n",
    "        raise Exception(\"Non-DNA base \\\"{}\\\" found.\".format(base))\n",
    "\n",
    "\n",
    "seq = \"TCAATGCATGCGGGTCTATATGCAT\"\n",
    "test_answer = find_reverse_palindomes(seq)\n",
    "test_answer = [(p.start_index, p.length) for p in test_answer]\n",
    "true_answer = [\n",
    "    (4, 6),\n",
    "    (5, 4),\n",
    "    (6, 6),\n",
    "    (7, 4),\n",
    "    (17, 4),\n",
    "    (18, 4),\n",
    "    (20, 6),\n",
    "    (21, 4),\n",
    "]\n",
    "assert true_answer == test_answer"
   ]
  },
  {
   "cell_type": "code",
   "execution_count": null,
   "metadata": {},
   "outputs": [],
   "source": []
  }
 ],
 "metadata": {
  "interpreter": {
   "hash": "dc9331ae586d10a105cd6023405cd3686f76c9793093ae3acae7ad93eeb5bb6c"
  },
  "kernelspec": {
   "display_name": "Python 3.9.2 64-bit ('.venv': poetry)",
   "name": "python3"
  },
  "language_info": {
   "codemirror_mode": {
    "name": "ipython",
    "version": 3
   },
   "file_extension": ".py",
   "mimetype": "text/x-python",
   "name": "python",
   "nbconvert_exporter": "python",
   "pygments_lexer": "ipython3",
   "version": "3.9.1"
  },
  "orig_nbformat": 4
 },
 "nbformat": 4,
 "nbformat_minor": 2
}
