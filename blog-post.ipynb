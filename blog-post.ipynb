{
 "cells": [
  {
   "cell_type": "code",
   "execution_count": 3,
   "metadata": {},
   "outputs": [],
   "source": [
    "import bio_lib_string_rs"
   ]
  },
  {
   "cell_type": "code",
   "execution_count": 24,
   "metadata": {},
   "outputs": [],
   "source": [
    "def convert_dna_to_rna_native(s: str) -> str: \n",
    "    return s.replace(\"T\", \"U\")\n",
    "\n",
    "def convert_dna_to_rna(s: str) -> str: \n",
    "    return ''.join([\"U\" if char == 'T' else char for char in s])"
   ]
  },
  {
   "cell_type": "code",
   "execution_count": 25,
   "metadata": {},
   "outputs": [],
   "source": [
    "with open('./data/rosalind_rna.txt') as f:\n",
    "    dna = f.read().strip()"
   ]
  },
  {
   "cell_type": "code",
   "execution_count": 26,
   "metadata": {},
   "outputs": [
    {
     "name": "stdout",
     "output_type": "stream",
     "text": [
      "47.4 µs ± 272 ns per loop (mean ± std. dev. of 7 runs, 10000 loops each)\n"
     ]
    }
   ],
   "source": [
    "%%timeit\n",
    "convert_dna_to_rna(dna)"
   ]
  },
  {
   "cell_type": "code",
   "execution_count": 27,
   "metadata": {},
   "outputs": [
    {
     "name": "stdout",
     "output_type": "stream",
     "text": [
      "75.6 µs ± 423 ns per loop (mean ± std. dev. of 7 runs, 10000 loops each)\n"
     ]
    }
   ],
   "source": [
    "%%timeit\n",
    "bio_lib_string_rs.convert_dna_to_rna(dna)"
   ]
  },
  {
   "cell_type": "code",
   "execution_count": 28,
   "metadata": {},
   "outputs": [
    {
     "name": "stdout",
     "output_type": "stream",
     "text": [
      "817 ns ± 7 ns per loop (mean ± std. dev. of 7 runs, 1000000 loops each)\n"
     ]
    }
   ],
   "source": [
    "%%timeit\n",
    "convert_dna_to_rna_native(dna)"
   ]
  },
  {
   "cell_type": "code",
   "execution_count": null,
   "metadata": {},
   "outputs": [
    {
     "name": "stdout",
     "output_type": "stream",
     "text": [
      "7.17 µs ± 19.9 ns per loop (mean ± std. dev. of 7 runs, 100000 loops each)\n"
     ]
    }
   ],
   "source": [
    "%%timeit\n",
    "np.char.replace(dna, \"T\", \"U\")"
   ]
  },
  {
   "cell_type": "code",
   "execution_count": 29,
   "metadata": {},
   "outputs": [
    {
     "name": "stdout",
     "output_type": "stream",
     "text": [
      "105 µs ± 6.29 µs per loop (mean ± std. dev. of 7 runs, 10000 loops each)\n"
     ]
    }
   ],
   "source": [
    "%%timeit\n",
    "bio_lib_string_rs.convert_dna_to_rna_native(dna)"
   ]
  },
  {
   "cell_type": "code",
   "execution_count": 30,
   "metadata": {},
   "outputs": [],
   "source": [
    "with open('./benchmark-data/rna-large.txt') as f:\n",
    "    dna_large = f.read().strip()"
   ]
  },
  {
   "cell_type": "code",
   "execution_count": 31,
   "metadata": {},
   "outputs": [
    {
     "name": "stdout",
     "output_type": "stream",
     "text": [
      "4.5 ms ± 250 µs per loop (mean ± std. dev. of 7 runs, 100 loops each)\n"
     ]
    }
   ],
   "source": [
    "%%timeit\n",
    "convert_dna_to_rna(dna_large)"
   ]
  },
  {
   "cell_type": "code",
   "execution_count": 32,
   "metadata": {},
   "outputs": [
    {
     "name": "stdout",
     "output_type": "stream",
     "text": [
      "7.28 ms ± 241 µs per loop (mean ± std. dev. of 7 runs, 100 loops each)\n"
     ]
    }
   ],
   "source": [
    "%%timeit\n",
    "bio_lib_string_rs.convert_dna_to_rna(dna_large)"
   ]
  },
  {
   "cell_type": "code",
   "execution_count": 33,
   "metadata": {},
   "outputs": [
    {
     "name": "stdout",
     "output_type": "stream",
     "text": [
      "57.1 µs ± 3.45 µs per loop (mean ± std. dev. of 7 runs, 10000 loops each)\n"
     ]
    }
   ],
   "source": [
    "%%timeit\n",
    "convert_dna_to_rna_native(dna_large)"
   ]
  },
  {
   "cell_type": "code",
   "execution_count": 34,
   "metadata": {},
   "outputs": [
    {
     "name": "stdout",
     "output_type": "stream",
     "text": [
      "9.26 ms ± 58.9 µs per loop (mean ± std. dev. of 7 runs, 100 loops each)\n"
     ]
    }
   ],
   "source": [
    "%%timeit\n",
    "bio_lib_string_rs.convert_dna_to_rna_native(dna_large)"
   ]
  },
  {
   "cell_type": "code",
   "execution_count": 83,
   "metadata": {},
   "outputs": [
    {
     "name": "stdout",
     "output_type": "stream",
     "text": [
      "228 µs ± 1.3 µs per loop (mean ± std. dev. of 7 runs, 1000 loops each)\n"
     ]
    }
   ],
   "source": [
    "%%timeit\n",
    "np.char.replace(dna_large, \"T\", \"U\")"
   ]
  },
  {
   "cell_type": "code",
   "execution_count": 35,
   "metadata": {},
   "outputs": [],
   "source": [
    "from dataclasses import dataclass\n",
    "from typing import List\n",
    "\n",
    "@dataclass\n",
    "class PalindromeLocation:\n",
    "    start_index: int\n",
    "    length: int\n",
    "\n",
    "\n",
    "def find_reverse_palindomes(seq: str) -> List[PalindromeLocation]:\n",
    "    min_len = 4\n",
    "    max_len = 12\n",
    "    locations = []\n",
    "    for i in range(0, len(seq) - min_len + 1):\n",
    "        for length in range(min_len, max_len + 1, 2):\n",
    "            if i + length > len(seq):\n",
    "                continue\n",
    "            test_seq = seq[i:(i + length)]\n",
    "            if is_reverse_palindrome(test_seq):\n",
    "                locations.append(\n",
    "                    PalindromeLocation(start_index=i + 1, length=length)\n",
    "                )\n",
    "    return locations\n",
    "\n",
    "\n",
    "def is_reverse_palindrome(seq: str) -> bool:\n",
    "    return seq == reverse_complement_dna(seq)\n",
    "\n",
    "\n",
    "def reverse_complement_dna(dna_seq: str) -> str:\n",
    "    return ''.join([dna_base_complement(b) for b in dna_seq[::-1]])\n",
    "\n",
    "\n",
    "def dna_base_complement(base: str) -> str:\n",
    "    if base == \"A\":\n",
    "        return \"T\"\n",
    "    elif base == \"T\":\n",
    "        return \"A\"\n",
    "    elif base == \"G\":\n",
    "        return \"C\"\n",
    "    elif base == \"C\":\n",
    "        return \"G\"\n",
    "    else:\n",
    "        raise Exception(\"Non-DNA base \\\"{}\\\" found.\".format(base))\n",
    "\n",
    "\n",
    "seq = \"TCAATGCATGCGGGTCTATATGCAT\"\n",
    "test_answer = find_reverse_palindomes(seq)\n",
    "test_answer = [(p.start_index, p.length) for p in test_answer]\n",
    "true_answer = [\n",
    "    (4, 6),\n",
    "    (5, 4),\n",
    "    (6, 6),\n",
    "    (7, 4),\n",
    "    (17, 4),\n",
    "    (18, 4),\n",
    "    (20, 6),\n",
    "    (21, 4),\n",
    "]\n",
    "assert true_answer == test_answer"
   ]
  },
  {
   "cell_type": "code",
   "execution_count": 36,
   "metadata": {},
   "outputs": [],
   "source": [
    "with open(\"./data/rosalind_revp.txt\") as f:\n",
    "    data = f.readlines()\n",
    "\n",
    "input = \"\".join([l.strip() for l in data[1:]])\n",
    "\n",
    "# _ = [print(p.start_index, p.length) for p in find_reverse_palindomes(input)]"
   ]
  },
  {
   "cell_type": "code",
   "execution_count": 37,
   "metadata": {},
   "outputs": [
    {
     "name": "stdout",
     "output_type": "stream",
     "text": [
      "8.85 ms ± 377 µs per loop (mean ± std. dev. of 7 runs, 100 loops each)\n"
     ]
    }
   ],
   "source": [
    "%%timeit\n",
    "_ = find_reverse_palindomes(input)"
   ]
  },
  {
   "cell_type": "code",
   "execution_count": 38,
   "metadata": {},
   "outputs": [
    {
     "name": "stdout",
     "output_type": "stream",
     "text": [
      "6.11 ms ± 28.6 µs per loop (mean ± std. dev. of 7 runs, 100 loops each)\n"
     ]
    }
   ],
   "source": [
    "%%timeit\n",
    "_ = bio_lib_string_rs.find_reverse_palindomes(input)"
   ]
  },
  {
   "cell_type": "code",
   "execution_count": 39,
   "metadata": {},
   "outputs": [],
   "source": [
    "with open(\"./benchmark-data/revp-large.txt\") as f:\n",
    "    data_large = f.readlines()[0]"
   ]
  },
  {
   "cell_type": "code",
   "execution_count": 40,
   "metadata": {},
   "outputs": [
    {
     "name": "stdout",
     "output_type": "stream",
     "text": [
      "880 ms ± 14.6 ms per loop (mean ± std. dev. of 7 runs, 1 loop each)\n"
     ]
    }
   ],
   "source": [
    "%%timeit\n",
    "_ = find_reverse_palindomes(data_large)"
   ]
  },
  {
   "cell_type": "code",
   "execution_count": 61,
   "metadata": {},
   "outputs": [
    {
     "data": {
      "text/plain": [
       "array(['A', 'T', 'C'], dtype='<U1')"
      ]
     },
     "execution_count": 61,
     "metadata": {},
     "output_type": "execute_result"
    }
   ],
   "source": [
    "s = np.array(list(\"ATC\"))\n",
    "ss = reverse_complement_dna(s)\n",
    "is_reverse_palindrome(ss)\n",
    "ss\n",
    "s"
   ]
  },
  {
   "cell_type": "code",
   "execution_count": 41,
   "metadata": {},
   "outputs": [
    {
     "name": "stdout",
     "output_type": "stream",
     "text": [
      "612 ms ± 3.25 ms per loop (mean ± std. dev. of 7 runs, 1 loop each)\n"
     ]
    }
   ],
   "source": [
    "%%timeit\n",
    "_ = bio_lib_string_rs.find_reverse_palindomes(data_large)"
   ]
  },
  {
   "cell_type": "code",
   "execution_count": 78,
   "metadata": {},
   "outputs": [],
   "source": [
    "import numpy as np\n",
    "import numpy.typing as npt\n",
    "\n",
    "def find_reverse_palindomes_np(seq: str) -> List[PalindromeLocation]:\n",
    "    min_len = 4\n",
    "    max_len = 12\n",
    "    locations = []\n",
    "    np_seq: npt.ArrayLike = np.array(list(seq))\n",
    "    for i in range(0, len(np_seq) - min_len + 1):\n",
    "        for length in range(min_len, max_len + 1, 2):\n",
    "            if i + length > len(np_seq):\n",
    "                continue\n",
    "            test_seq = np_seq[i:(i + length)]\n",
    "            if is_reverse_palindrome_np(test_seq):\n",
    "                locations.append(\n",
    "                    PalindromeLocation(start_index=i + 1, length=length)\n",
    "                )\n",
    "    return locations\n",
    "\n",
    "def is_reverse_palindrome_np(seq: npt.ArrayLike) -> bool:\n",
    "    return np.array_equal(seq, map(dna_base_complement,np.flip(seq)) )\n"
   ]
  },
  {
   "cell_type": "code",
   "execution_count": 80,
   "metadata": {},
   "outputs": [
    {
     "name": "stdout",
     "output_type": "stream",
     "text": [
      "1.87 s ± 69.1 ms per loop (mean ± std. dev. of 7 runs, 1 loop each)\n"
     ]
    }
   ],
   "source": [
    "%%timeit\n",
    "_ = find_reverse_palindomes_np(data_large)"
   ]
  }
 ],
 "metadata": {
  "interpreter": {
   "hash": "dc9331ae586d10a105cd6023405cd3686f76c9793093ae3acae7ad93eeb5bb6c"
  },
  "kernelspec": {
   "display_name": "Python 3.9.2 64-bit ('.venv': poetry)",
   "name": "python3"
  },
  "language_info": {
   "codemirror_mode": {
    "name": "ipython",
    "version": 3
   },
   "file_extension": ".py",
   "mimetype": "text/x-python",
   "name": "python",
   "nbconvert_exporter": "python",
   "pygments_lexer": "ipython3",
   "version": "3.9.1"
  },
  "orig_nbformat": 4
 },
 "nbformat": 4,
 "nbformat_minor": 2
}
