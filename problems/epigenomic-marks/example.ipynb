{
 "cells": [
  {
   "cell_type": "code",
   "execution_count": 38,
   "metadata": {},
   "outputs": [],
   "source": [
    "import pandas as pd\n",
    "from bio_tools.bio_tools import split_sequences_to_columns"
   ]
  },
  {
   "cell_type": "code",
   "execution_count": 78,
   "metadata": {},
   "outputs": [
    {
     "name": "stdout",
     "output_type": "stream",
     "text": [
      "0\n",
      "1\n",
      "2\n",
      "3\n",
      "4\n",
      "5\n",
      "6\n",
      "7\n",
      "8\n",
      "9\n",
      "10\n",
      "11\n",
      "12\n",
      "13\n",
      "14\n",
      "15\n",
      "16\n",
      "17\n",
      "18\n",
      "19\n",
      "20\n",
      "21\n",
      "22\n",
      "23\n"
     ]
    }
   ],
   "source": [
    "with open('./all/2.txt') as f:\n",
    "    lines = f.readlines()\n",
    "with open('./answer2.txt', 'w') as a:\n",
    "    test_count = int(lines[0])\n",
    "    index = 1\n",
    "    for i in range(test_count):\n",
    "        print(i)\n",
    "        sequence_count, seq_length = [int(ix) for ix in lines[index].split(\" \")]\n",
    "        rows = [l.strip() for l in lines[index+1:index+1+sequence_count]]\n",
    "        seqs = split_sequences_to_columns(pd.Series(rows)).T.apply(lambda row: \"\".join(row), axis=1)\n",
    "        unique_states = seqs.drop_duplicates().reset_index()[0]\n",
    "        assert(unique_states.index.max() + 1 == unique_states.nunique())\n",
    "        unique_states_count = len(unique_states)\n",
    "        assert unique_states_count <= 2**sequence_count\n",
    "        state_indicies = seqs.apply(lambda row: unique_states[unique_states == row].index[0]).values\n",
    "        assert unique_states_count >= 1\n",
    "        assert(len(state_indicies) == seq_length)\n",
    "        a.write(str(unique_states_count) + \"\\n\")\n",
    "        a.write(str(\" \".join([str(ix + 1) for ix in state_indicies])) + \"\\n\")\n",
    "        index += sequence_count + 1"
   ]
  },
  {
   "cell_type": "code",
   "execution_count": null,
   "metadata": {},
   "outputs": [],
   "source": []
  }
 ],
 "metadata": {
  "interpreter": {
   "hash": "aee8b7b246df8f9039afb4144a1f6fd8d2ca17a180786b69acc140d282b71a49"
  },
  "kernelspec": {
   "display_name": "Python 3.9.2 64-bit",
   "name": "python3"
  },
  "language_info": {
   "codemirror_mode": {
    "name": "ipython",
    "version": 3
   },
   "file_extension": ".py",
   "mimetype": "text/x-python",
   "name": "python",
   "nbconvert_exporter": "python",
   "pygments_lexer": "ipython3",
   "version": "3.9.2"
  },
  "orig_nbformat": 4
 },
 "nbformat": 4,
 "nbformat_minor": 2
}