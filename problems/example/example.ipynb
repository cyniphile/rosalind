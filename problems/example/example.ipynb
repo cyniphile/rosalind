{
 "cells": [
  {
   "cell_type": "code",
   "execution_count": 16,
   "metadata": {},
   "outputs": [
    {
     "name": "stdout",
     "output_type": "stream",
     "text": [
      "1 5\n",
      "\n",
      "9 9\n",
      "\n",
      "8 5\n",
      "\n",
      "5 4\n",
      "\n",
      "0 7\n",
      "\n",
      "2 6\n",
      "\n",
      "5 5\n",
      "\n",
      "0 8\n",
      "\n",
      "8 4\n",
      "\n",
      "5 4\n",
      "\n"
     ]
    }
   ],
   "source": [
    "with open('./input.txt') as f:\n",
    "    lines = f.readlines()\n",
    "with open('./answer.txt', 'w') as a:\n",
    "    for line in lines[1:]:\n",
    "        answer = str( sum([int(i) for i in line.split(' ')])) + \"\\n\"\n",
    "        print(answer)\n",
    "        a.write(answer)"
   ]
  },
  {
   "cell_type": "code",
   "execution_count": null,
   "metadata": {},
   "outputs": [],
   "source": []
  }
 ],
 "metadata": {
  "interpreter": {
   "hash": "aee8b7b246df8f9039afb4144a1f6fd8d2ca17a180786b69acc140d282b71a49"
  },
  "kernelspec": {
   "display_name": "Python 3.9.2 64-bit",
   "name": "python3"
  },
  "language_info": {
   "codemirror_mode": {
    "name": "ipython",
    "version": 3
   },
   "file_extension": ".py",
   "mimetype": "text/x-python",
   "name": "python",
   "nbconvert_exporter": "python",
   "pygments_lexer": "ipython3",
   "version": "3.9.2"
  },
  "orig_nbformat": 4
 },
 "nbformat": 4,
 "nbformat_minor": 2
}