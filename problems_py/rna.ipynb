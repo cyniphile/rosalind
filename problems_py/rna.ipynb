{
 "cells": [
  {
   "cell_type": "markdown",
   "metadata": {},
   "source": [
    "Problem\n",
    "An RNA string is a string formed from the alphabet containing 'A', 'C', 'G', and 'U'.\n",
    "\n",
    "Given a DNA string t corresponding to a coding strand, its transcribed RNA string u is formed by replacing all occurrences of 'T' in t with 'U' in u.\n",
    "\n",
    "Given: A DNA string t having length at most 1000 nt.\n",
    "\n",
    "Return: The transcribed RNA string of t.\n"
   ]
  },
  {
   "cell_type": "code",
   "execution_count": 2,
   "metadata": {},
   "outputs": [],
   "source": [
    "TEST = \"GATGGAACTTGACTACGTAAATT\"\n",
    "ANSWER = \"GAUGGAACUUGACUACGUAAAUU\"\n",
    "\n",
    "def transcribeDNAtoRNA(string): \n",
    "    return ''.join([\"U\" if char == 'T' else char for char in string])\n",
    "\n",
    "assert transcribeDNAtoRNA(TEST) == ANSWER"
   ]
  },
  {
   "cell_type": "code",
   "execution_count": 6,
   "metadata": {},
   "outputs": [],
   "source": [
    "with open('./rosalind_rna.txt') as f:\n",
    "    dna = f.read().strip()\n",
    "transcribeDNAtoRNA(dna)"
   ]
  }
 ],
 "metadata": {
  "interpreter": {
   "hash": "dc9331ae586d10a105cd6023405cd3686f76c9793093ae3acae7ad93eeb5bb6c"
  },
  "kernelspec": {
   "display_name": "Python 3.9.2 64-bit ('.venv': poetry)",
   "name": "python3"
  },
  "language_info": {
   "codemirror_mode": {
    "name": "ipython",
    "version": 3
   },
   "file_extension": ".py",
   "mimetype": "text/x-python",
   "name": "python",
   "nbconvert_exporter": "python",
   "pygments_lexer": "ipython3",
   "version": "3.9.1"
  },
  "orig_nbformat": 2
 },
 "nbformat": 4,
 "nbformat_minor": 2
}
