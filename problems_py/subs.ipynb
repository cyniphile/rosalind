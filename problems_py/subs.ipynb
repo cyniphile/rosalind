{
 "cells": [
  {
   "cell_type": "markdown",
   "metadata": {},
   "source": [
    "Given two strings s and t, t is a substring of s if t is contained as a contiguous collection of symbols in s (as a result, t must be no longer than s).\n",
    "\n",
    "The position of a symbol in a string is the total number of symbols found to its left, including itself (e.g., the positions of all occurrences of 'U' in \"AUGCUUCAGAAAGGUCUUACG\" are 2, 5, 6, 15, 17, and 18). The symbol at position i of s is denoted by s[i].\n",
    "\n",
    "A substring of s can be represented as s[j:k], where j and k represent the starting and ending positions of the substring in s; for example, if s = \"AUGCUUCAGAAAGGUCUUACG\", then s[2:5] = \"UGCU\".\n",
    "\n",
    "The location of a substring s[j:k] is its beginning position j; note that t will have multiple locations in s if it occurs more than once as a substring of s (see the Sample below).\n",
    "\n",
    "Given: Two DNA strings s and t (each of length at most 1 kbp).\n",
    "\n",
    "Return: All locations of t as a substring of s."
   ]
  },
  {
   "cell_type": "code",
   "execution_count": null,
   "metadata": {},
   "outputs": [
    {
     "name": "stdout",
     "output_type": "stream",
     "text": [
      "27 34 54 182 251 279 343 355 382 389 456 536 543 595 611 636 643 650 681 709 725 778 785 792 809 829 849 "
     ]
    }
   ],
   "source": [
    "import re\n",
    "string = \"GATATATGCATATACTT\"\n",
    "search = \"ATAT\"\n",
    "\n",
    "def find_motifs(string, query_string):\n",
    "    return [m.start() for m in re.finditer('(?={0})'.format(query_string), string)]\n",
    "\n",
    "with open(\"./rosalind_subs (1).txt\") as f:\n",
    "    data = f.readlines()\n",
    "\n",
    "\n",
    "answer = find_motifs(data[0].strip(), data[1].strip())\n",
    "\n",
    "_ = [print(i + 1, end =\" \") for i in answer]\n"
   ]
  }
 ],
 "metadata": {
  "language_info": {
   "name": "python"
  },
  "orig_nbformat": 4
 },
 "nbformat": 4,
 "nbformat_minor": 2
}
