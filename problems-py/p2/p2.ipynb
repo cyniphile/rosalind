{
 "cells": [
  {
   "cell_type": "markdown",
   "metadata": {},
   "source": [
    "Problem\n",
    "An RNA string is a string formed from the alphabet containing 'A', 'C', 'G', and 'U'.\n",
    "\n",
    "Given a DNA string t corresponding to a coding strand, its transcribed RNA string u is formed by replacing all occurrences of 'T' in t with 'U' in u.\n",
    "\n",
    "Given: A DNA string t having length at most 1000 nt.\n",
    "\n",
    "Return: The transcribed RNA string of t.\n"
   ]
  },
  {
   "cell_type": "code",
   "execution_count": 1,
   "metadata": {},
   "outputs": [],
   "source": [
    "TEST = \"GATGGAACTTGACTACGTAAATT\"\n",
    "ANSWER = \"GAUGGAACUUGACUACGUAAAUU\"\n",
    "\n",
    "def transcribeDNAtoRNA(string): \n",
    "    return ''.join([\"U\" if char == 'T' else char for char in string])\n",
    "\n",
    "assert transcribeDNAtoRNA(TEST) == ANSWER"
   ]
  },
  {
   "cell_type": "code",
   "execution_count": 13,
   "metadata": {},
   "outputs": [
    {
     "data": {
      "text/plain": "'AUCACAAUUUUGUAUUACGCUACGGCUAUUUCUAGACUGUAAAUGUGGUUUCGCGUUCUUGGGACAAUGCAAUCAAAGCAUACUAAGCGGAUAGGAAUCUAUGCAGCUCUGUCUCGGUCAUCUCCCUGCGAGCGCUGCGCACACGUACGGAUUUGCGUGGUGAGUCGGUACUGCCAUCGCGUAACUACUCGAUUUUGUCCGAAAAGAGGCGCGGGUGCGUAUCUUUAGUUACCUGAUGUGCGCGGAUGUCGCCAAUUGUAUGAUUAACUCACUACCAGGGGCGAUUAUCAACACAGCUAUGUUAGCUUAAGGUAUCAGAUAGAGUCCCAGGAAAUGUGGAAAUGCCACGGAAGACCCUUCCAAUGAAUGCGUUAAAGUGCGUGAAUUGGAUAUGAUAGCCACUGGCUCACGGCCGCUUAAUUCCGGCGGGAUUCUACUUCACAAUAGCAAACUGUAUUAAACCACGCGAGGAAGUGACAUGAUUUAAAUGACGACUGGGCAUUGCUAGUAGCUGGGCAGCUUAGAUGUGCUCCACGCUUACUGUAAUAUGAGAGAGGAAACUCGCGCCGGAGGGUGUCUAGUGGAAGUAAUUUAUUGUAGCGCACACCGUGACUGACGUAUCCCUUCUUUAUAGUCUUGGUCUCUAUUAGACGCUCGCAAUUGACGCGUCUGGGGAAUUGGUCAAGUCACGGCGCGCUAUCAUUAGUUAGACGUCUGGCUUCUCCGGGAAUAAAUUAACUGCAUCCCCCUCCACGGCAGGCUUCAAGGACAUCCACUUACAAAUUGGCUGCAUCUCUAUAGAUGAAUAGUGCAUGACCUUGUGCACUAGGCUAAUUAGUCGUCUACAGAAACCUUGAUCGGAACGGCACGGAACAGUUCCGGUACACUUCGAUGCAUGCGGGUUAGGUACUUAUCGUUAUCGAAUGAAGGGUGAGAAAGAUGUACGGUCGCCACUGUUACCGCUGCCA'"
     },
     "execution_count": 13,
     "metadata": {},
     "output_type": "execute_result"
    }
   ],
   "source": [
    "with open('./rosalind_rna (2).txt') as f:\n",
    "    dna = f.read().strip()\n",
    "\n",
    "transcribeDNAtoRNA(dna)"
   ]
  }
 ],
 "metadata": {
  "kernelspec": {
   "display_name": "Python 3.9.0 64-bit ('3.9.0')",
   "name": "python390jvsc74a57bd02022c44076811c5d41f0aa25f4843cd60aebcd301de733e532dea3e883dd45ab"
  },
  "language_info": {
   "codemirror_mode": {
    "name": "ipython",
    "version": 3
   },
   "file_extension": ".py",
   "mimetype": "text/x-python",
   "name": "python",
   "nbconvert_exporter": "python",
   "pygments_lexer": "ipython3",
   "version": "3.9.0"
  },
  "orig_nbformat": 2
 },
 "nbformat": 4,
 "nbformat_minor": 2
}