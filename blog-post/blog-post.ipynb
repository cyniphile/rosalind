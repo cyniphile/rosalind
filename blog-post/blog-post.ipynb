{
 "cells": [
  {
   "cell_type": "code",
   "execution_count": 1,
   "metadata": {},
   "outputs": [],
   "source": [
    "from bio_lib_py.bio_lib import *\n",
    "import bio_lib_string_rs\n",
    "\n",
    "with open('./data/rosalind_rna.txt') as f:\n",
    "    dna = f.read().strip()"
   ]
  },
  {
   "cell_type": "code",
   "execution_count": 2,
   "metadata": {},
   "outputs": [
    {
     "name": "stdout",
     "output_type": "stream",
     "text": [
      "48.8 µs ± 2.93 µs per loop (mean ± std. dev. of 7 runs, 10000 loops each)\n"
     ]
    }
   ],
   "source": [
    "%%timeit\n",
    "transcribe_dna_to_rna(dna)"
   ]
  },
  {
   "cell_type": "code",
   "execution_count": 3,
   "metadata": {},
   "outputs": [
    {
     "name": "stdout",
     "output_type": "stream",
     "text": [
      "74.3 µs ± 1.59 µs per loop (mean ± std. dev. of 7 runs, 10000 loops each)\n"
     ]
    }
   ],
   "source": [
    "%%timeit\n",
    "bio_lib_string_rs.transcribe_dna_to_rna(dna)"
   ]
  },
  {
   "cell_type": "code",
   "execution_count": 4,
   "metadata": {},
   "outputs": [
    {
     "name": "stdout",
     "output_type": "stream",
     "text": [
      "852 ns ± 12.1 ns per loop (mean ± std. dev. of 7 runs, 1000000 loops each)\n"
     ]
    }
   ],
   "source": [
    "%%timeit\n",
    "transcribe_dna_to_rna_builtin(dna)"
   ]
  },
  {
   "cell_type": "code",
   "execution_count": 10,
   "metadata": {},
   "outputs": [
    {
     "data": {
      "text/plain": [
       "'ACGUGGCUAGAUCACUGCAAAGCCACAGUUUUUACAAUAGGUCGUCUGAAUUCCGAUCACCGGAUUUCACACUUCUUCUGGGAGCUCCUAGCGUUUUAACGGGUAACCCCUUUGUCGUACCAAUUAGUGGCGAUGGCCAAAGCGGUACUCAUGCGAUAUUUCCGUAGGGACCUGCAAAAUCGACUGAUCCAUGCCAUUACCACUAUGGCGAAUAUUCUGGAGGCCUAUCGAGUUAAAUCUGAACAGGACUAUCGAGAAACAUGAGCUGGUAAACUGCCACGUUCGCUCACUCUCGAAGACGACAUGAACCUAUCAAUCGUGUCUUAAUCCUGCAUUCCGUAAAAAGAACUCAGCGAGGGACCAUCCCUCGUAGACGACUGUGCUCUGACUACCUUGAGCAAUCCUGAAUGUCUAUCGUUUCAAUUGAAUACCGUAGGGUGACCAUACUUCACGAAUCGGCAAGGACGGUUAUACGAGGUACUAGCUAAGCAGGAGCUAUAGCUUGUUCUGCGUUACCCAAGUAAAGGGUUCCAGAUGCGCACAGUGUGAAGAUUAUGCUUUGGACCGUCCCGUGUCGUUGCGCGCCCCCGGGGUCUGGUAUCGAAUACCUACCUCAGCAGUAAUACGUUCAGAGAGUACCCGGCCUCUACCUGGGGUCGGGUAACCAAGCCGUACUUCGUUUCUAAUUGUUGCUACGUUAGGACUAGUUCUUUUCCUAACCCGUGAUAUCGCGGUGAGUGACAAACCCGACAGCACCUACAAAAGAAGGCGCUGGGCGGGCUAUCGUGAUCAUGAUCAAGGCCGUGUCCGAGGCAAUGUGCACCUUUUGCUAUUCCAAUACCCUAGGAGACUGCUAACAUGAUGUGUUUGGCGCAUGAAUACGUCGUUAAGACAAGACCGCUACGGACUUUGAACCUAUCAAUAGAGACGUUAACCGCGUUCGUUGGCGGGUAC'"
      ]
     },
     "execution_count": 10,
     "metadata": {},
     "output_type": "execute_result"
    }
   ],
   "source": [
    "# %%timeit\n",
    "str(np.char.replace(dna, \"T\", \"U\"))"
   ]
  },
  {
   "cell_type": "code",
   "execution_count": 10,
   "metadata": {},
   "outputs": [
    {
     "name": "stdout",
     "output_type": "stream",
     "text": [
      "3.79 µs ± 68.3 ns per loop (mean ± std. dev. of 7 runs, 100000 loops each)\n"
     ]
    }
   ],
   "source": [
    "%%timeit\n",
    "bio_lib_string_rs.transcribe_dna_to_rna_native(dna)"
   ]
  },
  {
   "cell_type": "code",
   "execution_count": 30,
   "metadata": {},
   "outputs": [],
   "source": [
    "with open('./benchmark-data/rna-large.txt') as f:\n",
    "    dna_large = f.read().strip()"
   ]
  },
  {
   "cell_type": "code",
   "execution_count": 31,
   "metadata": {},
   "outputs": [
    {
     "name": "stdout",
     "output_type": "stream",
     "text": [
      "4.5 ms ± 250 µs per loop (mean ± std. dev. of 7 runs, 100 loops each)\n"
     ]
    }
   ],
   "source": [
    "%%timeit\n",
    "transcribe_dna_to_rna(dna_large)"
   ]
  },
  {
   "cell_type": "code",
   "execution_count": 32,
   "metadata": {},
   "outputs": [
    {
     "name": "stdout",
     "output_type": "stream",
     "text": [
      "7.28 ms ± 241 µs per loop (mean ± std. dev. of 7 runs, 100 loops each)\n"
     ]
    }
   ],
   "source": [
    "%%timeit\n",
    "bio_lib_string_rs.transcribe_dna_to_rna(dna_large)"
   ]
  },
  {
   "cell_type": "code",
   "execution_count": 33,
   "metadata": {},
   "outputs": [
    {
     "name": "stdout",
     "output_type": "stream",
     "text": [
      "57.1 µs ± 3.45 µs per loop (mean ± std. dev. of 7 runs, 10000 loops each)\n"
     ]
    }
   ],
   "source": [
    "%%timeit\n",
    "transcribe_dna_to_rna_native(dna_large)"
   ]
  },
  {
   "cell_type": "code",
   "execution_count": 34,
   "metadata": {},
   "outputs": [
    {
     "name": "stdout",
     "output_type": "stream",
     "text": [
      "9.26 ms ± 58.9 µs per loop (mean ± std. dev. of 7 runs, 100 loops each)\n"
     ]
    }
   ],
   "source": [
    "%%timeit\n",
    "bio_lib_string_rs.transcribe_dna_to_rna_native(dna_large)"
   ]
  },
  {
   "cell_type": "code",
   "execution_count": 83,
   "metadata": {},
   "outputs": [
    {
     "name": "stdout",
     "output_type": "stream",
     "text": [
      "228 µs ± 1.3 µs per loop (mean ± std. dev. of 7 runs, 1000 loops each)\n"
     ]
    }
   ],
   "source": [
    "%%timeit\n",
    "np.char.replace(dna_large, \"T\", \"U\")"
   ]
  },
  {
   "cell_type": "code",
   "execution_count": 3,
   "metadata": {},
   "outputs": [],
   "source": [
    "with open(\"./data/rosalind_revp.txt\") as f:\n",
    "    data = f.readlines()\n",
    "\n",
    "input = \"\".join([l.strip() for l in data[1:]])\n",
    "\n",
    "# _ = [print(p.start_index, p.length) for p in find_reverse_palindromes(input)]"
   ]
  },
  {
   "cell_type": "code",
   "execution_count": 37,
   "metadata": {},
   "outputs": [
    {
     "name": "stdout",
     "output_type": "stream",
     "text": [
      "8.85 ms ± 377 µs per loop (mean ± std. dev. of 7 runs, 100 loops each)\n"
     ]
    }
   ],
   "source": [
    "%%timeit\n",
    "_ = find_reverse_palindromes(input)"
   ]
  },
  {
   "cell_type": "code",
   "execution_count": 12,
   "metadata": {},
   "outputs": [
    {
     "name": "stdout",
     "output_type": "stream",
     "text": [
      "6.21 ms ± 111 µs per loop (mean ± std. dev. of 7 runs, 100 loops each)\n"
     ]
    }
   ],
   "source": [
    "%%timeit\n",
    "_ = bio_lib_string_rs.find_reverse_palindromes(input)"
   ]
  },
  {
   "cell_type": "code",
   "execution_count": 14,
   "metadata": {},
   "outputs": [
    {
     "data": {
      "text/plain": [
       "False"
      ]
     },
     "execution_count": 14,
     "metadata": {},
     "output_type": "execute_result"
    }
   ],
   "source": [
    "pr = bio_lib_string_rs.find_reverse_palindromes(input)\n",
    "pp = find_reverse_palindromes(input)\n",
    "pr[0] == pp[0]"
   ]
  },
  {
   "cell_type": "code",
   "execution_count": 39,
   "metadata": {},
   "outputs": [],
   "source": [
    "with open(\"./benchmark-data/revp-large.txt\") as f:\n",
    "    data_large = f.readlines()[0]"
   ]
  },
  {
   "cell_type": "code",
   "execution_count": 40,
   "metadata": {},
   "outputs": [
    {
     "name": "stdout",
     "output_type": "stream",
     "text": [
      "880 ms ± 14.6 ms per loop (mean ± std. dev. of 7 runs, 1 loop each)\n"
     ]
    }
   ],
   "source": [
    "%%timeit\n",
    "_ = find_reverse_palindromes(data_large)"
   ]
  },
  {
   "cell_type": "code",
   "execution_count": 61,
   "metadata": {},
   "outputs": [
    {
     "data": {
      "text/plain": [
       "array(['A', 'T', 'C'], dtype='<U1')"
      ]
     },
     "execution_count": 61,
     "metadata": {},
     "output_type": "execute_result"
    }
   ],
   "source": [
    "s = np.array(list(\"ATC\"))\n",
    "ss = reverse_complement_dna(s)\n",
    "is_reverse_palindrome(ss)\n",
    "ss\n",
    "s"
   ]
  },
  {
   "cell_type": "code",
   "execution_count": 41,
   "metadata": {},
   "outputs": [
    {
     "name": "stdout",
     "output_type": "stream",
     "text": [
      "612 ms ± 3.25 ms per loop (mean ± std. dev. of 7 runs, 1 loop each)\n"
     ]
    }
   ],
   "source": [
    "%%timeit\n",
    "_ = bio_lib_string_rs.find_reverse_palindromes(data_large)"
   ]
  },
  {
   "cell_type": "code",
   "execution_count": 80,
   "metadata": {},
   "outputs": [
    {
     "name": "stdout",
     "output_type": "stream",
     "text": [
      "1.87 s ± 69.1 ms per loop (mean ± std. dev. of 7 runs, 1 loop each)\n"
     ]
    }
   ],
   "source": [
    "%%timeit\n",
    "_ = find_reverse_palindromes_np(data_large)"
   ]
  }
 ],
 "metadata": {
  "interpreter": {
   "hash": "dc9331ae586d10a105cd6023405cd3686f76c9793093ae3acae7ad93eeb5bb6c"
  },
  "kernelspec": {
   "display_name": "Python 3.9.2 64-bit ('.venv': poetry)",
   "name": "python3"
  },
  "language_info": {
   "codemirror_mode": {
    "name": "ipython",
    "version": 3
   },
   "file_extension": ".py",
   "mimetype": "text/x-python",
   "name": "python",
   "nbconvert_exporter": "python",
   "pygments_lexer": "ipython3",
   "version": "3.9.1"
  },
  "orig_nbformat": 4
 },
 "nbformat": 4,
 "nbformat_minor": 2
}
